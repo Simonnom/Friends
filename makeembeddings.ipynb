#!/usr/bin/env python3
# -*- coding: utf-8 -*-
"""
Created on Wed Mar 15 06:09:06 2023

@author: davsu428
"""


import pandas as pd
import numpy as np


from sentence_transformers import SentenceTransformer
model = SentenceTransformer('all-MiniLM-L6-v2')

#df=pd.read_csv('data/All_Sentences.csv',delimiter=',')
df=pd.read_csv('data/Episode_0.csv',delimiter=',')
df=df.iloc[0:10]

df['Embedding'] = df.apply(lambda row: model.encode(df['Said']), axis=1)

print(df)